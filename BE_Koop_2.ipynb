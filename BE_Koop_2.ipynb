{
  "nbformat": 4,
  "nbformat_minor": 0,
  "metadata": {
    "colab": {
      "provenance": [],
      "authorship_tag": "ABX9TyN7+57SKoPbSoKNjoAEVNXy",
      "include_colab_link": true
    },
    "kernelspec": {
      "name": "python3",
      "display_name": "Python 3"
    },
    "language_info": {
      "name": "python"
    }
  },
  "cells": [
    {
      "cell_type": "markdown",
      "metadata": {
        "id": "view-in-github",
        "colab_type": "text"
      },
      "source": [
        "<a href=\"https://colab.research.google.com/github/dandoreyrodriguez/Bayesian_Econometrics/blob/main/BE_Koop_2.ipynb\" target=\"_parent\"><img src=\"https://colab.research.google.com/assets/colab-badge.svg\" alt=\"Open In Colab\"/></a>"
      ]
    },
    {
      "cell_type": "markdown",
      "source": [
        "# **Class 2 in Bayesian Econometrics**\n",
        "\n",
        "## **Motivation**\n",
        "\n",
        "Last class we learned Bayesian basics. It's glory is its generality! We also saw why doing Bayes is hard: because getting the right scaling constant for the posterior distribution often involves nasty integrals which may not have nice, recognisable analytical solutions. Moreover, numerical approximations of integrals scale poorly as you move to high-dimensional space. We got around this by choosing *conjugate* priors which gave us the same easily recognisable inegrals.\n",
        "\n",
        "Today we are in Monaco, doing MONTE CARLO MARKOV CHAINS (MCMC)! It turns out that we can construct special stochastic processes, called Markov chains, from which we can sample our vector of parameters $\\boldsymbol{\\theta}$ which will converge to behave as if being sampled by the true posterior! Once we have this, applying the law of large numbers (LLN) is just a small step away! As during our frequentist days, the LLN will be our best friend. Although now in our Bayesian days, we aren't bound by the sample size. Instead, we can control how many samples to take. This surely makes the LLN not just a good friend, but a more trustworthy friend. Join me to see how randomness will be the maker of our statistical fortunes...\n",
        "\n"
      ],
      "metadata": {
        "id": "TEpMFEvOwHj-"
      }
    }
  ]
}